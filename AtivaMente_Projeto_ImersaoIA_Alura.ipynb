{
  "nbformat": 4,
  "nbformat_minor": 0,
  "metadata": {
    "colab": {
      "provenance": [],
      "authorship_tag": "ABX9TyOCGuI6YERUeMWGP6FonGPm",
      "include_colab_link": true
    },
    "kernelspec": {
      "name": "python3",
      "display_name": "Python 3"
    },
    "language_info": {
      "name": "python"
    }
  },
  "cells": [
    {
      "cell_type": "markdown",
      "metadata": {
        "id": "view-in-github",
        "colab_type": "text"
      },
      "source": [
        "<a href=\"https://colab.research.google.com/github/DiegoReports/AtivaMente_Projeto_ImersaoIA_Alura/blob/main/AtivaMente_Projeto_ImersaoIA_Alura.ipynb\" target=\"_parent\"><img src=\"https://colab.research.google.com/assets/colab-badge.svg\" alt=\"Open In Colab\"/></a>"
      ]
    },
    {
      "cell_type": "code",
      "execution_count": null,
      "metadata": {
        "colab": {
          "base_uri": "https://localhost:8080/"
        },
        "id": "CxkvbljyKXze",
        "outputId": "d72e0a5d-16f3-4f39-ea39-f123e504807d"
      },
      "outputs": [
        {
          "output_type": "stream",
          "name": "stdout",
          "text": [
            "Requirement already satisfied: google-generativeai in /usr/local/lib/python3.11/dist-packages (0.8.5)\n",
            "Requirement already satisfied: google-ai-generativelanguage==0.6.15 in /usr/local/lib/python3.11/dist-packages (from google-generativeai) (0.6.15)\n",
            "Requirement already satisfied: google-api-core in /usr/local/lib/python3.11/dist-packages (from google-generativeai) (2.24.2)\n",
            "Requirement already satisfied: google-api-python-client in /usr/local/lib/python3.11/dist-packages (from google-generativeai) (2.169.0)\n",
            "Requirement already satisfied: google-auth>=2.15.0 in /usr/local/lib/python3.11/dist-packages (from google-generativeai) (2.38.0)\n",
            "Requirement already satisfied: protobuf in /usr/local/lib/python3.11/dist-packages (from google-generativeai) (5.29.4)\n",
            "Requirement already satisfied: pydantic in /usr/local/lib/python3.11/dist-packages (from google-generativeai) (2.11.4)\n",
            "Requirement already satisfied: tqdm in /usr/local/lib/python3.11/dist-packages (from google-generativeai) (4.67.1)\n",
            "Requirement already satisfied: typing-extensions in /usr/local/lib/python3.11/dist-packages (from google-generativeai) (4.13.2)\n",
            "Requirement already satisfied: proto-plus<2.0.0dev,>=1.22.3 in /usr/local/lib/python3.11/dist-packages (from google-ai-generativelanguage==0.6.15->google-generativeai) (1.26.1)\n",
            "Requirement already satisfied: googleapis-common-protos<2.0.0,>=1.56.2 in /usr/local/lib/python3.11/dist-packages (from google-api-core->google-generativeai) (1.70.0)\n",
            "Requirement already satisfied: requests<3.0.0,>=2.18.0 in /usr/local/lib/python3.11/dist-packages (from google-api-core->google-generativeai) (2.32.3)\n",
            "Requirement already satisfied: cachetools<6.0,>=2.0.0 in /usr/local/lib/python3.11/dist-packages (from google-auth>=2.15.0->google-generativeai) (5.5.2)\n",
            "Requirement already satisfied: pyasn1-modules>=0.2.1 in /usr/local/lib/python3.11/dist-packages (from google-auth>=2.15.0->google-generativeai) (0.4.2)\n",
            "Requirement already satisfied: rsa<5,>=3.1.4 in /usr/local/lib/python3.11/dist-packages (from google-auth>=2.15.0->google-generativeai) (4.9.1)\n",
            "Requirement already satisfied: httplib2<1.0.0,>=0.19.0 in /usr/local/lib/python3.11/dist-packages (from google-api-python-client->google-generativeai) (0.22.0)\n",
            "Requirement already satisfied: google-auth-httplib2<1.0.0,>=0.2.0 in /usr/local/lib/python3.11/dist-packages (from google-api-python-client->google-generativeai) (0.2.0)\n",
            "Requirement already satisfied: uritemplate<5,>=3.0.1 in /usr/local/lib/python3.11/dist-packages (from google-api-python-client->google-generativeai) (4.1.1)\n",
            "Requirement already satisfied: annotated-types>=0.6.0 in /usr/local/lib/python3.11/dist-packages (from pydantic->google-generativeai) (0.7.0)\n",
            "Requirement already satisfied: pydantic-core==2.33.2 in /usr/local/lib/python3.11/dist-packages (from pydantic->google-generativeai) (2.33.2)\n",
            "Requirement already satisfied: typing-inspection>=0.4.0 in /usr/local/lib/python3.11/dist-packages (from pydantic->google-generativeai) (0.4.0)\n",
            "Requirement already satisfied: grpcio<2.0dev,>=1.33.2 in /usr/local/lib/python3.11/dist-packages (from google-api-core[grpc]!=2.0.*,!=2.1.*,!=2.10.*,!=2.2.*,!=2.3.*,!=2.4.*,!=2.5.*,!=2.6.*,!=2.7.*,!=2.8.*,!=2.9.*,<3.0.0dev,>=1.34.1->google-ai-generativelanguage==0.6.15->google-generativeai) (1.71.0)\n",
            "Requirement already satisfied: grpcio-status<2.0.dev0,>=1.33.2 in /usr/local/lib/python3.11/dist-packages (from google-api-core[grpc]!=2.0.*,!=2.1.*,!=2.10.*,!=2.2.*,!=2.3.*,!=2.4.*,!=2.5.*,!=2.6.*,!=2.7.*,!=2.8.*,!=2.9.*,<3.0.0dev,>=1.34.1->google-ai-generativelanguage==0.6.15->google-generativeai) (1.71.0)\n",
            "Requirement already satisfied: pyparsing!=3.0.0,!=3.0.1,!=3.0.2,!=3.0.3,<4,>=2.4.2 in /usr/local/lib/python3.11/dist-packages (from httplib2<1.0.0,>=0.19.0->google-api-python-client->google-generativeai) (3.2.3)\n",
            "Requirement already satisfied: pyasn1<0.7.0,>=0.6.1 in /usr/local/lib/python3.11/dist-packages (from pyasn1-modules>=0.2.1->google-auth>=2.15.0->google-generativeai) (0.6.1)\n",
            "Requirement already satisfied: charset-normalizer<4,>=2 in /usr/local/lib/python3.11/dist-packages (from requests<3.0.0,>=2.18.0->google-api-core->google-generativeai) (3.4.2)\n",
            "Requirement already satisfied: idna<4,>=2.5 in /usr/local/lib/python3.11/dist-packages (from requests<3.0.0,>=2.18.0->google-api-core->google-generativeai) (3.10)\n",
            "Requirement already satisfied: urllib3<3,>=1.21.1 in /usr/local/lib/python3.11/dist-packages (from requests<3.0.0,>=2.18.0->google-api-core->google-generativeai) (2.4.0)\n",
            "Requirement already satisfied: certifi>=2017.4.17 in /usr/local/lib/python3.11/dist-packages (from requests<3.0.0,>=2.18.0->google-api-core->google-generativeai) (2025.4.26)\n"
          ]
        }
      ],
      "source": [
        "!pip install -U google-generativeai"
      ]
    },
    {
      "cell_type": "code",
      "source": [
        "import os\n",
        "from google.colab import userdata\n",
        "\n",
        "os.environ[\"GOOGLE_API_KEY\"] = userdata.get('GOOGLE_API_KEY')"
      ],
      "metadata": {
        "id": "K_AygxwLNzAd"
      },
      "execution_count": 2,
      "outputs": []
    },
    {
      "cell_type": "code",
      "source": [
        "# Configura o cliente da SDK do Gemini\n",
        "\n",
        "from google import genai\n",
        "\n",
        "client = genai.Client()\n",
        "\n",
        "MODEL_ID = \"gemini-2.5-pro-preview-05-06\""
      ],
      "metadata": {
        "id": "1pSPAUsSOmih"
      },
      "execution_count": null,
      "outputs": []
    },
    {
      "cell_type": "code",
      "source": [
        "!pip install transformers"
      ],
      "metadata": {
        "colab": {
          "base_uri": "https://localhost:8080/"
        },
        "id": "AWx07Hkq4QHC",
        "outputId": "c0749f82-d875-4a48-fb86-82bd1b886dcf"
      },
      "execution_count": null,
      "outputs": [
        {
          "output_type": "stream",
          "name": "stdout",
          "text": [
            "Requirement already satisfied: transformers in /usr/local/lib/python3.11/dist-packages (4.51.3)\n",
            "Requirement already satisfied: filelock in /usr/local/lib/python3.11/dist-packages (from transformers) (3.18.0)\n",
            "Requirement already satisfied: huggingface-hub<1.0,>=0.30.0 in /usr/local/lib/python3.11/dist-packages (from transformers) (0.31.2)\n",
            "Requirement already satisfied: numpy>=1.17 in /usr/local/lib/python3.11/dist-packages (from transformers) (2.0.2)\n",
            "Requirement already satisfied: packaging>=20.0 in /usr/local/lib/python3.11/dist-packages (from transformers) (24.2)\n",
            "Requirement already satisfied: pyyaml>=5.1 in /usr/local/lib/python3.11/dist-packages (from transformers) (6.0.2)\n",
            "Requirement already satisfied: regex!=2019.12.17 in /usr/local/lib/python3.11/dist-packages (from transformers) (2024.11.6)\n",
            "Requirement already satisfied: requests in /usr/local/lib/python3.11/dist-packages (from transformers) (2.32.3)\n",
            "Requirement already satisfied: tokenizers<0.22,>=0.21 in /usr/local/lib/python3.11/dist-packages (from transformers) (0.21.1)\n",
            "Requirement already satisfied: safetensors>=0.4.3 in /usr/local/lib/python3.11/dist-packages (from transformers) (0.5.3)\n",
            "Requirement already satisfied: tqdm>=4.27 in /usr/local/lib/python3.11/dist-packages (from transformers) (4.67.1)\n",
            "Requirement already satisfied: fsspec>=2023.5.0 in /usr/local/lib/python3.11/dist-packages (from huggingface-hub<1.0,>=0.30.0->transformers) (2025.3.2)\n",
            "Requirement already satisfied: typing-extensions>=3.7.4.3 in /usr/local/lib/python3.11/dist-packages (from huggingface-hub<1.0,>=0.30.0->transformers) (4.13.2)\n",
            "Requirement already satisfied: charset-normalizer<4,>=2 in /usr/local/lib/python3.11/dist-packages (from requests->transformers) (3.4.2)\n",
            "Requirement already satisfied: idna<4,>=2.5 in /usr/local/lib/python3.11/dist-packages (from requests->transformers) (3.10)\n",
            "Requirement already satisfied: urllib3<3,>=1.21.1 in /usr/local/lib/python3.11/dist-packages (from requests->transformers) (2.4.0)\n",
            "Requirement already satisfied: certifi>=2017.4.17 in /usr/local/lib/python3.11/dist-packages (from requests->transformers) (2025.4.26)\n"
          ]
        }
      ]
    },
    {
      "cell_type": "code",
      "source": [
        "# Instalar Framework ADK de agentes do Google ################################################\n",
        "!pip install -q google-adk"
      ],
      "metadata": {
        "colab": {
          "base_uri": "https://localhost:8080/"
        },
        "id": "HyNprnk-Oop1",
        "outputId": "abbca117-5b70-46df-efe8-a2b624c1a445"
      },
      "execution_count": 4,
      "outputs": [
        {
          "output_type": "stream",
          "name": "stdout",
          "text": [
            "\u001b[?25l   \u001b[90m━━━━━━━━━━━━━━━━━━━━━━━━━━━━━━━━━━━━━━━━\u001b[0m \u001b[32m0.0/1.2 MB\u001b[0m \u001b[31m?\u001b[0m eta \u001b[36m-:--:--\u001b[0m\r\u001b[2K   \u001b[91m━━━━━━━━━━━━━━━━━━\u001b[0m\u001b[90m╺\u001b[0m\u001b[90m━━━━━━━━━━━━━━━━━━━━━\u001b[0m \u001b[32m0.5/1.2 MB\u001b[0m \u001b[31m16.1 MB/s\u001b[0m eta \u001b[36m0:00:01\u001b[0m\r\u001b[2K   \u001b[90m━━━━━━━━━━━━━━━━━━━━━━━━━━━━━━━━━━━━━━━━\u001b[0m \u001b[32m1.2/1.2 MB\u001b[0m \u001b[31m16.8 MB/s\u001b[0m eta \u001b[36m0:00:00\u001b[0m\n",
            "\u001b[2K   \u001b[90m━━━━━━━━━━━━━━━━━━━━━━━━━━━━━━━━━━━━━━━━\u001b[0m \u001b[32m232.1/232.1 kB\u001b[0m \u001b[31m14.7 MB/s\u001b[0m eta \u001b[36m0:00:00\u001b[0m\n",
            "\u001b[2K   \u001b[90m━━━━━━━━━━━━━━━━━━━━━━━━━━━━━━━━━━━━━━━━\u001b[0m \u001b[32m95.2/95.2 kB\u001b[0m \u001b[31m7.3 MB/s\u001b[0m eta \u001b[36m0:00:00\u001b[0m\n",
            "\u001b[2K   \u001b[90m━━━━━━━━━━━━━━━━━━━━━━━━━━━━━━━━━━━━━━━━\u001b[0m \u001b[32m217.1/217.1 kB\u001b[0m \u001b[31m14.0 MB/s\u001b[0m eta \u001b[36m0:00:00\u001b[0m\n",
            "\u001b[2K   \u001b[90m━━━━━━━━━━━━━━━━━━━━━━━━━━━━━━━━━━━━━━━━\u001b[0m \u001b[32m334.1/334.1 kB\u001b[0m \u001b[31m17.0 MB/s\u001b[0m eta \u001b[36m0:00:00\u001b[0m\n",
            "\u001b[2K   \u001b[90m━━━━━━━━━━━━━━━━━━━━━━━━━━━━━━━━━━━━━━━━\u001b[0m \u001b[32m125.1/125.1 kB\u001b[0m \u001b[31m6.6 MB/s\u001b[0m eta \u001b[36m0:00:00\u001b[0m\n",
            "\u001b[2K   \u001b[90m━━━━━━━━━━━━━━━━━━━━━━━━━━━━━━━━━━━━━━━━\u001b[0m \u001b[32m65.8/65.8 kB\u001b[0m \u001b[31m4.3 MB/s\u001b[0m eta \u001b[36m0:00:00\u001b[0m\n",
            "\u001b[2K   \u001b[90m━━━━━━━━━━━━━━━━━━━━━━━━━━━━━━━━━━━━━━━━\u001b[0m \u001b[32m119.0/119.0 kB\u001b[0m \u001b[31m7.9 MB/s\u001b[0m eta \u001b[36m0:00:00\u001b[0m\n",
            "\u001b[2K   \u001b[90m━━━━━━━━━━━━━━━━━━━━━━━━━━━━━━━━━━━━━━━━\u001b[0m \u001b[32m194.9/194.9 kB\u001b[0m \u001b[31m11.8 MB/s\u001b[0m eta \u001b[36m0:00:00\u001b[0m\n",
            "\u001b[2K   \u001b[90m━━━━━━━━━━━━━━━━━━━━━━━━━━━━━━━━━━━━━━━━\u001b[0m \u001b[32m62.5/62.5 kB\u001b[0m \u001b[31m3.8 MB/s\u001b[0m eta \u001b[36m0:00:00\u001b[0m\n",
            "\u001b[2K   \u001b[90m━━━━━━━━━━━━━━━━━━━━━━━━━━━━━━━━━━━━━━━━\u001b[0m \u001b[32m103.3/103.3 kB\u001b[0m \u001b[31m6.1 MB/s\u001b[0m eta \u001b[36m0:00:00\u001b[0m\n",
            "\u001b[2K   \u001b[90m━━━━━━━━━━━━━━━━━━━━━━━━━━━━━━━━━━━━━━━━\u001b[0m \u001b[32m44.4/44.4 kB\u001b[0m \u001b[31m2.4 MB/s\u001b[0m eta \u001b[36m0:00:00\u001b[0m\n",
            "\u001b[2K   \u001b[90m━━━━━━━━━━━━━━━━━━━━━━━━━━━━━━━━━━━━━━━━\u001b[0m \u001b[32m72.0/72.0 kB\u001b[0m \u001b[31m4.7 MB/s\u001b[0m eta \u001b[36m0:00:00\u001b[0m\n",
            "\u001b[?25h"
          ]
        }
      ]
    },
    {
      "cell_type": "code",
      "source": [
        "from google.adk.agents import Agent\n",
        "from google.adk.runners import Runner\n",
        "from google.adk.sessions import InMemorySessionService\n",
        "from google.adk.tools import google_search\n",
        "from google.genai import types  # Para criar conteúdos (Content e Part)\n",
        "from datetime import date\n",
        "import textwrap # Para formatar melhor a saída de texto\n",
        "from IPython.display import display, Markdown # Para exibir texto formatado no Colab\n",
        "import requests # Para fazer requisições HTTP\n",
        "import warnings\n",
        "\n",
        "# Importação do pipeline da biblioteca transformers\n",
        "from transformers import pipeline\n",
        "\n",
        "warnings.filterwarnings(\"ignore\")"
      ],
      "metadata": {
        "id": "x5xWBWMF19Tx"
      },
      "execution_count": 5,
      "outputs": []
    },
    {
      "cell_type": "code",
      "source": [
        "# Função auxiliar que envia uma mensagem para um agente via Runner e retorna a resposta final\n",
        "def call_agent(agent: Agent, message_text: str) -> str:\n",
        "    # Cria um serviço de sessão em memória\n",
        "    session_service = InMemorySessionService()\n",
        "    # Cria uma nova sessão (você pode personalizar os IDs conforme necessário)\n",
        "    session = session_service.create_session(app_name=agent.name, user_id=\"user1\", session_id=\"session1\")\n",
        "    # Cria um Runner para o agente\n",
        "    runner = Runner(agent=agent, app_name=agent.name, session_service=session_service)\n",
        "    # Cria o conteúdo da mensagem de entrada\n",
        "    content = types.Content(role=\"user\", parts=[types.Part(text=message_text)])\n",
        "\n",
        "    final_response = \"\"\n",
        "    # Itera assincronamente pelos eventos retornados durante a execução do agente\n",
        "    for event in runner.run(user_id=\"user1\", session_id=\"session1\", new_message=content):\n",
        "        if event.is_final_response():\n",
        "          for part in event.content.parts:\n",
        "            if part.text is not None:\n",
        "              final_response += part.text\n",
        "              final_response += \"\\n\"\n",
        "    return final_response"
      ],
      "metadata": {
        "id": "L4OUEZ-G2B0N"
      },
      "execution_count": 6,
      "outputs": []
    },
    {
      "cell_type": "code",
      "source": [
        "# Função auxiliar para exibir texto formatado em Markdown no Colab\n",
        "def to_markdown(text):\n",
        "  text = text.replace('•', '  *')\n",
        "  return Markdown(textwrap.indent(text, '> ', predicate=lambda _: True))"
      ],
      "metadata": {
        "id": "7YuLRWVR4s4u"
      },
      "execution_count": 7,
      "outputs": []
    },
    {
      "cell_type": "code",
      "source": [
        "##########################################\n",
        "# --- Agente 1: Analisador           --- #\n",
        "##########################################\n",
        "\n",
        "def agente_analisador(mensagem):\n",
        "\n",
        "  analisador = Agent(\n",
        "  name=\"agente_analisador\",\n",
        "  model=\"gemini-2.5-pro-preview-05-06\",\n",
        "  description=\"Agente que analisa o estado fisico e emocional do usuário\",\n",
        "  instruction=\"\"\"Você é um especialista em bem-estar físico e emocional para atletas amadores.\n",
        "          Seu objetivo é analisar as mensagens dos usuários e identificar seu estado físico, emocional e nível de motivação\n",
        "          para a prática de atividades ao ar livre. Seja conciso e retorne um resumo dessas informações.\n",
        "          \"\"\"\n",
        "  )\n",
        "  entrada_do_agente_analisador = f\"Mensagem: {mensagem}\"\n",
        "  analises = call_agent(analisador, entrada_do_agente_analisador)\n",
        "\n",
        "  return analises"
      ],
      "metadata": {
        "id": "dfu_Iv1A4ujU"
      },
      "execution_count": 16,
      "outputs": []
    },
    {
      "cell_type": "code",
      "source": [
        "##########################################\n",
        "# --- Agente 2:Recomendador Ativo    --- #\n",
        "##########################################\n",
        "\n",
        "def agente_recomendador(mensagem, analises_encontradas):\n",
        "    recomendador = Agent(\n",
        "        name=\"agente_recomendador\",\n",
        "        model=\"gemini-2.0-flash\",\n",
        "        description=\"Agente que recomenda ações ou planos de acordo com as análises encontradas\",\n",
        "        # Changed 'instructions' to 'instruction'\n",
        "        instruction=\"\"\"\n",
        "        Você é um coach de bem-estar físico e emocional especializado em atividades ao ar livre.\n",
        "        Seu objetivo é analisar a mensagem original do usuário e as análises fornecidas sobre seu estado físico,\n",
        "        emocional e nível de motivação, e então gerar recomendações de ações ou planos apropriados.\n",
        "\n",
        "        Considere os seguintes pontos ao gerar suas recomendações:\n",
        "\n",
        "        - **Estado Físico:** Se o usuário relatar cansaço, dores ou falta de energia, sugira descanso ativo leve, alongamentos suaves ou um dia de repouso, enfatizando a importância de ouvir o corpo. Se o estado físico for bom, incentive a manter a rotina ou explorar atividades mais desafiadoras (se o usuário tiver objetivos específicos).\n",
        "\n",
        "        - **Estado Emocional:** Se o usuário expressar desânimo, ansiedade ou falta de motivação, ofereça palavras de encorajamento, lembre-o dos benefícios da atividade física (liberação de endorfinas, melhora do humor) e sugira começar com atividades leves ou mais prazerosas. Se o estado emocional for positivo, motive-o a aproveitar esse bom humor para se engajar nas atividades.\n",
        "\n",
        "        - **Nível de Motivação:** Se a motivação estiver baixa, sugira definir metas pequenas e alcançáveis, encontrar um parceiro de treino, ou experimentar novas atividades para reacender o interesse. Se a motivação estiver alta, incentive a manter o foco e a perseguir seus objetivos.\n",
        "\n",
        "        - **Mensagem Original do Usuário:** Use a mensagem original para entender o contexto completo e nuances que podem não ter sido totalmente capturadas na análise.\n",
        "\n",
        "        - **Seja Específico e Prático:** Suas recomendações devem ser acionáveis e fáceis de seguir pelo usuário. Forneça exemplos concretos quando possível (ex: \"Que tal uma caminhada de 30 minutos em um parque?\", \"Experimente fazer alguns alongamentos leves pela manhã.\").\n",
        "\n",
        "        - **Mantenha um Tom Positivo e Encorajador:** Sua comunicação deve inspirar o usuário e motivá-lo a se engajar em atividades ao ar livre, mesmo diante de desafios.\n",
        "\n",
        "        Retorne suas recomendações de forma clara e concisa.\n",
        "        \"\"\"\n",
        "    )\n",
        "\n",
        "    entrada_do_agente_recomendador = f\"Mensagem: {mensagem}\\nAnálises encontradas: {analises_encontradas}\"\n",
        "    recomendacoes = call_agent(recomendador, entrada_do_agente_recomendador)\n",
        "    return recomendacoes"
      ],
      "metadata": {
        "id": "MDS1yAY55G1T"
      },
      "execution_count": 17,
      "outputs": []
    },
    {
      "cell_type": "code",
      "source": [
        "##########################################\n",
        "# --- Agente 3: SugestorDeRotas      --- #\n",
        "##########################################\n",
        "\n",
        "def agente_sugestor_rotas(mensagem, estado_do_usuario=None, preferencias_do_usuario=None):\n",
        "    sugestor_rotas = Agent(\n",
        "        name=\"sugestor_de_rotas\", # Changed name to use underscores\n",
        "        model=\"gemini-2.5-pro-preview-05-06\",\n",
        "        description=\"Agente que sugere locais e rotas seguras para atividades físicas ao ar livre.\",\n",
        "        instruction=\"\"\"\n",
        "        Você é um guia especializado em encontrar locais e rotas seguras para a prática de atividades físicas ao ar livre.\n",
        "        Seu objetivo é fornecer sugestões de locais próximos e adequados ao usuário, levando em consideração suas preferências,\n",
        "        seu estado físico e emocional (conforme a análise fornecida) e a segurança.\n",
        "        Sempre que ficar claro que o usuario não quer atividade ao ar livre, NÃO DÊ UMA RECOMENDAÇÃO. Siga para o próximo agente.\n",
        "        Ao gerar suas sugestões, siga as seguintes diretrizes:\n",
        "\n",
        "        1.  **Proximidade:** Priorize locais que sejam próximos à localização do usuário (se fornecida na mensagem ou em suas preferências). Se a localização não for clara, peça ao usuário para fornecê-la.\n",
        "\n",
        "        2.  **Segurança:** Escolha locais e rotas conhecidos por serem seguros para a prática de atividades físicas. Evite áreas com histórico de criminalidade ou perigos óbvios.\n",
        "\n",
        "        3.  **Relevância para o Estado do Usuário:**\n",
        "            - Se o usuário estiver se sentindo com baixa energia ou desmotivado, sugira locais mais tranquilos e de fácil acesso, como parques com caminhos planos.\n",
        "            - Se o usuário estiver ansioso, sugira locais com natureza exuberante e ambientes relaxantes.\n",
        "            - Se o usuário estiver com bom estado físico e motivado, pode sugerir trilhas mais desafiadoras ou percursos mais longos.\n",
        "\n",
        "        4.  **Preferências do Usuário:** Considere os tipos de atividades que o usuário mencionou gostar (corrida, caminhada, ciclismo, ciclismo, etc.) e os tipos de ambientes que ele prefere (parques, praias, montanhas, etc.).\n",
        "\n",
        "        5.  **Avisos de Segurança:** **Inclua sempre um aviso importante** lembrando o usuário de:\n",
        "            - **Atentar-se ao trânsito:** Mesmo em locais destinados a atividades físicas, o trânsito pode ser um fator de risco.\n",
        "            - **Verificar as condições climáticas do dia:** Desaconselhe atividades em condições climáticas adversas (chuva forte, calor extremo, ventos fortes, etc.).\n",
        "            - **Estar atento a quaisquer outros avisos ou sinalizações locais** que possam indicar perigos ou precauções a serem tomadas para a sua segurança e saúde.\n",
        "\n",
        "        6.  **Informações Práticas:** Se possível, forneça informações práticas sobre o local sugerido, como horário de funcionamento, facilidades disponíveis (banheiros, bebedouros), e se há estacionamento seguro.\n",
        "\n",
        "        Peça informações adicionais ao usuário se necessário para refinar suas sugestões (ex: \"Você teria alguma preferência por tipo de local, como um parque ou uma trilha?\").\n",
        "\n",
        "        Retorne suas sugestões de forma clara e concisa, sempre com o aviso de segurança em destaque.\n",
        "        \"\"\"\n",
        "    )\n",
        "\n",
        "    entrada_do_agente_sugestor_rotas = f\"Mensagem: {mensagem}\\n\"\n",
        "    if estado_do_usuario:\n",
        "        entrada_do_agente_sugestor_rotas += f\"Estado do usuário: {estado_do_usuario}\\n\"\n",
        "    if preferencias_do_usuario:\n",
        "        entrada_do_agente_sugestor_rotas += f\"Preferências do usuário: {preferencias_do_usuario}\\n\"\n",
        "\n",
        "    recomendacoes_rotas = call_agent(sugestor_rotas, entrada_do_agente_sugestor_rotas)\n",
        "    return recomendacoes_rotas"
      ],
      "metadata": {
        "id": "Nw8_6tP4Rxsr"
      },
      "execution_count": 18,
      "outputs": []
    },
    {
      "cell_type": "code",
      "source": [
        "##########################################\n",
        "# --- Agente 4: Coach De Mensagens   --- #\n",
        "##########################################\n",
        "\n",
        "# Modified the function definition to accept a second argument for route suggestions\n",
        "def agente_mensagens(mensagem_recomendacoes):\n",
        "    mensageiro = Agent(\n",
        "        name=\"agente_mensagens\",\n",
        "        model=\"gemini-2.5-pro-preview-05-06\",\n",
        "        description=\"Agente que formata as recomendações em mensagens amigáveis e motivacionais para o usuário.\",\n",
        "        instruction=\"\"\"\n",
        "        Você é um coach de bem-estar físico e emocional com uma voz inspiradora e encorajadora.\n",
        "        Seu objetivo é pegar as recomendações geradas pelos agentes anteriores (recomendações gerais e sugestões de rotas)\n",
        "        e formatá-las em uma mensagem final direcionada ao usuário. Esta mensagem deve ser amigável, motivacional e fácil de entender e curta de no maximo 4 a 6 linhas.\n",
        "        Você poderá utilizar o (google_search) a fim de pesquisar mensagens motivacionais que se encaixem no perfil do usuário e na sua necessidade.\n",
        "\n",
        "        Considere os seguintes aspectos ao formatar a mensagem:\n",
        "\n",
        "        - **Saudação:** Comece com uma saudação calorosa e amigável (ex: \"Olá!\", \"Oi!\", \"Como vai você?\").\n",
        "        - **Tom Positivo:** Mantenha um tom otimista e encorajador ao longo da mensagem.\n",
        "        - **Linguagem Motivacional:** Use palavras e frases que inspirem o usuário a seguir as recomendações (ex: \"Você consegue!\", \"Dê esse primeiro passo!\", \"Lembre-se do seu potencial!\").\n",
        "        - **Ênfase nos Benefícios:** Se aplicável, destaque os benefícios de seguir as recomendações (ex: \"Você se sentirá mais energizado...\", \"Isso pode ajudar a aliviar a tensão...\").\n",
        "        - **Clareza e Concisão:** Certifique-se de que a mensagem seja fácil de entender e não seja excessivamente longa.\n",
        "        - **Toque Pessoal (se possível):** Se houver informações específicas sobre o usuário ou sua situação, tente incorporá-las de forma natural.\n",
        "        - **Incentivo à Ação:** Termine com uma frase que motive o usuário a colocar as recomendações em prática (ex: \"Experimente hoje!\", \"Que tal começar agora?\", \"Estou aqui para te apoiar em cada passo!\").\n",
        "        - Inclua alguns emojis de forma moderada a mensagem afim de torna-la ainda mais personalizavel.\n",
        "        - **Incorpore as sugestões de rotas:** Inclua as sugestões de locais e rotas de forma clara na mensagem final.\n",
        "        - **Inclua o aviso de segurança:** Certifique-se de que o aviso de segurança sobre trânsito, clima e sinalizações locais seja presente na mensagem final.\n",
        "\n",
        "        Formate essa informação em uma mensagem coesa e inspiradora para o usuário.\n",
        "        \"\"\",\n",
        "        tools=[google_search]\n",
        "    )\n",
        "\n",
        "    # Modified the input to the agent to include both recommendations and route suggestions\n",
        "    entrada_do_agente_mensageiro = f\"[RECOMENDACOES_GERAIS]\\n{mensagem_recomendacoes}\\n\"\n",
        "    mensagem_final = call_agent(mensageiro, entrada_do_agente_mensageiro)\n",
        "    return mensagem_final"
      ],
      "metadata": {
        "id": "AMmjfAuv5yjg"
      },
      "execution_count": 21,
      "outputs": []
    },
    {
      "cell_type": "code",
      "source": [
        "print(\"🚀 Iniciando o Sistema de Recomentações para atletas amadores\")\n",
        "\n",
        "# --- Obter o Tópico do Usuário ---\n",
        "mensagem = input(\"❓ Por favor, digite a MENSAGEM sobre como está se sentindo para o treino ou atividade de hoje: \")\n",
        "\n",
        "# Logica sistema de agentes #############\n",
        "if not mensagem:\n",
        "  print(\"Você esqueceu de inserir um tópico. Por favor, tente novamente.\")\n",
        "else:\n",
        "  print(\"Excelente! Vamos começar a analisar como te ajudar hoje com atividades ao ar livre, ou coletivas.\")\n",
        "\n",
        "  analises_encontradas = agente_analisador(mensagem)\n",
        "  print(\"\\n===== 📊 Análises encontradas do Agente 1 (Analisador)==== \\n\")\n",
        "  display(to_markdown(analises_encontradas))\n",
        "  print(\"----------------------------------------------------------------\")\n",
        "\n",
        "  recomendacoes_para_hoje = agente_recomendador(mensagem, analises_encontradas)\n",
        "  print(\"\\n===== 📊 Recomendações para hoje do Agente 2 (Recomendador)==== \\n\")\n",
        "  display(to_markdown(recomendacoes_para_hoje))\n",
        "  print(\"----------------------------------------------------------------\")\n",
        "\n",
        "  sugestor_de_rota = agente_sugestor_rotas(recomendacoes_para_hoje)\n",
        "  print(\"\\n===== 📊 Recomendações para hoje do Agente 3 (Sugestor de Rota)==== \\n\")\n",
        "  display(to_markdown(sugestor_de_rota))\n",
        "  print(\"----------------------------------------------------------------\")\n",
        "\n",
        "  mensagem_motivadora = agente_mensagens(recomendacoes_para_hoje)\n",
        "  print(\"\\n===== 📊 Recomendações para hoje do Agente 4 (Mensageiro)==== \\n\")\n",
        "  display(to_markdown(mensagem_motivadora))\n",
        "  print(\"----------------------------------------------------------------\")"
      ],
      "metadata": {
        "colab": {
          "base_uri": "https://localhost:8080/",
          "height": 1000
        },
        "id": "koj946IIIlkG",
        "outputId": "e7e6df90-9cc4-40b8-d81f-0ca36a56dd43"
      },
      "execution_count": 22,
      "outputs": [
        {
          "output_type": "stream",
          "name": "stdout",
          "text": [
            "🚀 Iniciando o Sistema de Recomentações para atletas amadores\n",
            "❓ Por favor, digite a MENSAGEM sobre como está se sentindo para o treino ou atividade de hoje: Dia estressante, mas preciso fazer atividades fisicas. Quero algo coletivo e divertido\n",
            "Excelente! Vamos começar a analisar como te ajudar hoje com atividades ao ar livre, ou coletivas.\n",
            "\n",
            "===== 📊 Análises encontradas do Agente 1 (Analisador)==== \n",
            "\n"
          ]
        },
        {
          "output_type": "display_data",
          "data": {
            "text/plain": [
              "<IPython.core.display.Markdown object>"
            ],
            "text/markdown": "> Resumo:\n> *   **Estado Físico:** Disposto a atividades físicas.\n> *   **Estado Emocional:** Estressado.\n> *   **Nível de Motivação:** Alto, buscando atividade coletiva e divertida para aliviar o estresse.\n"
          },
          "metadata": {}
        },
        {
          "output_type": "stream",
          "name": "stdout",
          "text": [
            "----------------------------------------------------------------\n",
            "\n",
            "===== 📊 Recomendações para hoje do Agente 2 (Recomendador)==== \n",
            "\n"
          ]
        },
        {
          "output_type": "display_data",
          "data": {
            "text/plain": [
              "<IPython.core.display.Markdown object>"
            ],
            "text/markdown": "> Entendo o seu dia estressante, mas que bom que você está motivado a se exercitar! Uma atividade coletiva e divertida é perfeita para aliviar o estresse e recarregar as energias.\n> \n> **Recomendações:**\n> \n> 1.  **Esporte em equipe:** Que tal procurar um grupo para jogar um vôlei de praia, futebol ou praticar algum esporte coletivo que você goste? A interação social e o trabalho em equipe podem ser ótimos para distrair a mente e liberar o estresse.\n> 2.  **Aula de dança ao ar livre:** Muitas cidades oferecem aulas de dança em parques ou praças. Ritmos como zumba, salsa ou até mesmo danças folclóricas são ótimas opções para se divertir, queimar calorias e socializar.\n> 3.  **Caminhada ou corrida em grupo:** Encontre um grupo de corrida ou caminhada na sua região. A companhia de outras pessoas pode tornar a atividade mais agradável e motivadora, além de ser uma ótima oportunidade para fazer novas amizades.\n> 4.  **Yoga ou alongamento em grupo:** Se você busca algo mais relaxante, procure por aulas de yoga ou alongamento em parques ou praças. A prática em grupo pode ser muito energizante e te ajudar a aliviar a tensão muscular causada pelo estresse.\n> \n> Lembre-se de escolher uma atividade que te dê prazer e que se encaixe na sua rotina. O importante é se movimentar, se divertir e cuidar da sua saúde física e mental.\n"
          },
          "metadata": {}
        },
        {
          "output_type": "stream",
          "name": "stdout",
          "text": [
            "----------------------------------------------------------------\n",
            "\n",
            "===== 📊 Recomendações para hoje do Agente 3 (Sugestor de Rota)==== \n",
            "\n"
          ]
        },
        {
          "output_type": "display_data",
          "data": {
            "text/plain": [
              "<IPython.core.display.Markdown object>"
            ],
            "text/markdown": "> Olá! Essas são ótimas sugestões gerais de atividades para aliviar o estresse e recarregar as energias!\n> \n> Como seu guia especializado em locais para atividades físicas ao ar livre, posso te ajudar a encontrar **lugares específicos, seguros e adequados** para você praticar alguma dessas atividades mencionadas (como vôlei de praia, aulas de dança em parques, caminhada/corrida em grupo ou yoga ao ar livre), ou outras de sua preferência.\n> \n> Para que eu possa te dar recomendações mais precisas e próximas a você, preciso de uma informação importante:\n> \n> **Qual a sua cidade ou bairro?**\n> \n> Com essa informação, posso verificar:\n> *   Parques com boa estrutura e segurança para caminhadas, corridas ou aulas em grupo.\n> *   Praias ou praças que sejam pontos conhecidos para esportes coletivos.\n> *   Rotas que sejam adequadas ao seu estado atual, seja para algo mais leve e relaxante, ou algo que demande um pouco mais de energia.\n> \n> Você teria alguma preferência específica de ambiente (ex: um parque com muita área verde, uma orla, uma trilha leve) ou alguma outra atividade ao ar livre em mente?\n> \n> Aguardo sua localização para prosseguirmos!\n"
          },
          "metadata": {}
        },
        {
          "output_type": "stream",
          "name": "stdout",
          "text": [
            "----------------------------------------------------------------\n",
            "\n",
            "===== 📊 Recomendações para hoje do Agente 4 (Mensageiro)==== \n",
            "\n"
          ]
        },
        {
          "output_type": "display_data",
          "data": {
            "text/plain": [
              "<IPython.core.display.Markdown object>"
            ],
            "text/markdown": "> Olá! 👋 Sei que o dia foi puxado, mas que ótima atitude a sua de buscar energia no exercício! \n> \n> Para aliviar esse estresse e ainda se divertir, que tal:\n> *   Um animado **vôlei de praia ou futebol com amigos**? 🏐⚽\n> *   Soltar o corpo em uma **aula de dança ao ar livre**, como zumba ou salsa? 💃🕺\n> *   Juntar-se a um **grupo de corrida ou caminhada** pela sua cidade? 🏃‍♀️🏃‍♂️\n> *   Ou encontrar paz e alongamento em uma **aula de yoga em grupo** num parque? 🧘‍♀️🧘‍♂️\n> \n> Lembre-se, o importante é se movimentar e se divertir! Escolha o que te faz sorrir. \"Transforme a dor em poder e os obstáculos em oportunidades. Você é capaz!\" E ao se exercitar ao ar livre, não se esqueça de observar o trânsito, as condições do tempo e a sinalização local para sua segurança, combinado? 😉 Que tal começar hoje mesmo? ✨\n"
          },
          "metadata": {}
        },
        {
          "output_type": "stream",
          "name": "stdout",
          "text": [
            "----------------------------------------------------------------\n"
          ]
        }
      ]
    },
    {
      "cell_type": "code",
      "source": [],
      "metadata": {
        "id": "vNhBek-4JE3a"
      },
      "execution_count": null,
      "outputs": []
    }
  ]
}